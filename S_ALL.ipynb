{
 "cells": [
  {
   "cell_type": "code",
   "execution_count": null,
   "metadata": {},
   "outputs": [],
   "source": [
    "! pip install -q condacolab\n",
    "import condacolab\n",
    "condacolab.install()\n",
    "! conda install psi4 -c psi4\n",
    "! pip install openfermion\n",
    "! pip install openfermionpyscf==0.5\n",
    "! pip install qiskit\n",
    "! pip install git+https://github.com/tequilahub/tequila.git@devel"
   ]
  },
  {
   "cell_type": "markdown",
   "metadata": {},
   "source": [
    "# Review of classical electronic structure methods \n",
    "\n",
    "In order to assess the performance of quantum computing algorithms in addressing the electronic structure problem, we will briefly review a few commonly employed classical electronic structure methods of varying level of approximation. \n",
    "\n",
    "## Hartree-Fock\n",
    "\n",
    "The Hartree-Fock (HF) method employs a **mean-field approximation**, where Coulomb correlation of electrons is neglected. The HF wavefunction is hence restricted to the form of a single Slater determinant, for which the optimal form may be acquired by an optimization of the underlying single particle basis (orbitals). Once the optimal HF orbitals have been found, the HF state may be written as \n",
    "\n",
    "$$ | \\text{HF} \\rangle = \\prod_{p \\in \\text{occ}} \\hat a^\\dagger_p | \\text{vac} \\rangle $$\n",
    "\n",
    "where $\\hat a^\\dagger_p$ creates an electron in the $p^{\\rm{th}}$ optimized HF spin orbital, and  $| \\text{vac} \\rangle$ is the vacuum state (all spin-orbitals unoccupied). Due to the restriction to a single Slater determinant, the HF energy may be obtained very efficiently and can be applied to very large molecules, however it becomes qualitatively incorrect when **electronic correlations** become sufficiently strong. The HF wavefunction is often used as a starting point in more accurate treatments of electronic correlation. \n",
    "\n",
    "## Coupled cluster\n",
    "\n",
    "The Coupled cluster (CC) method introduces electronic correlation to the wavefunction ansatz by operating on the HF reference state with the exponential of excitation operators\n",
    "\n",
    "$$|\\text{CC} \\rangle = e^{\\hat T} | \\text{HF}\\rangle, \\quad \\hat T = \\hat T_1 + \\hat T_2 + ...$$\n",
    "\n",
    "where $\\hat T_1 = \\sum_{ia} t^{a}_i \\hat a^\\dagger_a \\hat a_i$ are referred to as 'singles', $\\hat T_2 = \\sum_{ijab} t^{ab}_{ij} \\hat a^\\dagger_a \\hat a^\\dagger_b \\hat a_i \\hat a_j$ as 'doubles', etc. When the excitation rank is truncated to only singles (S) and doubles (D), $\\hat T = \\hat T_1 + \\hat T_2$, the corresponding ansatz is referred to as CCSD. Since the number of possible single and double excitations for a system of $N$ electrons in $M$ orbitals is polynomial in $M$, one can efficiently solve a system of equations to obtain the optimized CCSD amplitudes. CCSD often gives accurate energies and can be applied to modestly sized chemical systems. However, due to its implementation, it can **violate the variational principle** and give energies lower than the ground state.\n",
    "\n",
    "## Full Configuration Interaction\n",
    "The full configuration interaction (FCI) method yields the **exact ground state energy** within a given basis set. The FCI wavefunction is written as a linear combination of all possible $N$-particle Slater determinants over the orbital basis\n",
    "$$|\\text{FCI} \\rangle =  \\left( \\sum_{ia} C^{a}_i \\hat a^\\dagger_a \\hat a_i + \\sum_{ijab} C^{ab}_{ij} \\hat a^\\dagger_a \\hat a^\\dagger_b \\hat a_i \\hat a_j + ...  \\right) | \\text{HF} \\rangle $$\n",
    "where the sum includes up to $N$-electron excitations, and hence there are an exponential number of coefficients to optimize in $| \\text{FCI} \\rangle$. Due to its **exponential complexity**, FCI is often reserved for only the smallest chemical systems. However, it serves as a useful result to compare to when assessing tractable electronic structure methods."
   ]
  },
  {
   "cell_type": "markdown",
   "metadata": {},
   "source": [
    "# Benchmarking for electronic PESs in minimal basis (STO-3G)\n",
    "\n",
    "We will apply HF, CCSD, and FCI to obtaining the PESs for a few molecular dissociation processes in minimal (STO-3G) basis."
   ]
  },
  {
   "cell_type": "code",
   "execution_count": 1,
   "metadata": {},
   "outputs": [],
   "source": [
    "import numpy as np\n",
    "import matplotlib.pyplot as plt\n",
    "from utility import get_molecular_data, obtain_PES\n",
    "\n",
    "basis = 'sto-3g'"
   ]
  },
  {
   "cell_type": "markdown",
   "metadata": {},
   "source": [
    "## H<sub>2</sub>"
   ]
  },
  {
   "cell_type": "code",
   "execution_count": 2,
   "metadata": {},
   "outputs": [],
   "source": [
    "bond_lengths = np.linspace(0.2,2.6,15)"
   ]
  },
  {
   "cell_type": "code",
   "execution_count": 3,
   "metadata": {},
   "outputs": [
    {
     "name": "stdout",
     "output_type": "stream",
     "text": [
      "E = 0.15748213365503227 Eh\n",
      "E = -0.8488991062024303 Eh\n",
      "E = -1.0882281844069175 Eh\n",
      "E = -1.1369289594005694 Eh\n",
      "E = -1.1229570527982327 Eh\n",
      "E = -1.0887645364963472 Eh\n",
      "E = -1.050442037218747 Eh\n",
      "E = -1.0154682491653282 Eh\n",
      "E = -0.9873929962932158 Eh\n",
      "E = -0.9670259116093081 Eh\n",
      "E = -0.9534242125062946 Eh\n",
      "E = -0.9449089870950513 Eh\n",
      "E = -0.9398197912188275 Eh\n",
      "E = -0.9368706035283358 Eh\n",
      "E = -0.9351960308386078 Eh\n"
     ]
    }
   ],
   "source": [
    "#Run FCI\n",
    "FCI_PES = obtain_PES('h2', bond_lengths, basis, method='fci')"
   ]
  },
  {
   "cell_type": "code",
   "execution_count": 4,
   "metadata": {},
   "outputs": [
    {
     "name": "stdout",
     "output_type": "stream",
     "text": [
      "E = 0.16412595411336572 Eh\n",
      "E = -0.8397057843499892 Eh\n",
      "E = -1.0748879317191187 Eh\n",
      "E = -1.1175258568986868 Eh\n",
      "E = -1.0951595815644861 Eh\n",
      "E = -1.0495617842752063 Eh\n",
      "E = -0.9960202460350621 Eh\n",
      "E = -0.9415475409906798 Eh\n",
      "E = -0.8899750208893151 Eh\n",
      "E = -0.8432718025417757 Eh\n",
      "E = -0.8022428650141392 Eh\n",
      "E = -0.7669825247360009 Eh\n",
      "E = -0.737154544898827 Eh\n",
      "E = -0.7121961606082455 Eh\n",
      "E = -0.6914700512624807 Eh\n"
     ]
    }
   ],
   "source": [
    "#Run HF\n",
    "HF_PES = obtain_PES('h2', bond_lengths, basis,  method='hf')"
   ]
  },
  {
   "cell_type": "code",
   "execution_count": 5,
   "metadata": {},
   "outputs": [
    {
     "name": "stdout",
     "output_type": "stream",
     "text": [
      "E = 0.15748412056436212 Eh\n",
      "E = -0.8488985094851157 Eh\n",
      "E = -1.088231017430786 Eh\n",
      "E = -1.1369333351418645 Eh\n",
      "E = -1.1229593878059765 Eh\n",
      "E = -1.0887606905920533 Eh\n",
      "E = -1.0504260893271258 Eh\n",
      "E = -1.015441636439638 Eh\n",
      "E = -0.9873692257052733 Eh\n",
      "E = -0.9670168314563375 Eh\n",
      "E = -0.9534301294889965 Eh\n",
      "E = -0.9449225613845078 Eh\n",
      "E = -0.9398332746700113 Eh\n",
      "E = -0.9368793989542739 Eh\n",
      "E = -0.9351989265367047 Eh\n"
     ]
    }
   ],
   "source": [
    "#Run CCSD\n",
    "CCSD_PES = obtain_PES('h2', bond_lengths, basis,  method='ccsd')"
   ]
  },
  {
   "cell_type": "code",
   "execution_count": 6,
   "metadata": {},
   "outputs": [
    {
     "data": {
      "text/plain": [
       "<matplotlib.legend.Legend at 0x7f8dddbc0208>"
      ]
     },
     "execution_count": 6,
     "metadata": {},
     "output_type": "execute_result"
    },
    {
     "data": {
      "image/png": "[encoded data removed]",
      "text/plain": [
       "<Figure size 432x288 with 1 Axes>"
      ]
     },
     "metadata": {
      "needs_background": "light"
     },
     "output_type": "display_data"
    }
   ],
   "source": [
    "#Plot H2 PESs\n",
    "\n",
    "plt.title('H2 dissociation, STO-3G')\n",
    "plt.xlabel('R, Angstrom')\n",
    "plt.ylabel('E, Hartree')\n",
    "\n",
    "plt.plot(bond_lengths, FCI_PES, label='FCI')\n",
    "plt.scatter(bond_lengths, HF_PES, label='HF', color='orange')\n",
    "plt.scatter(bond_lengths, CCSD_PES, label='CCSD', color='purple')\n",
    "plt.legend()"
   ]
  },
  {
   "cell_type": "markdown",
   "metadata": {},
   "source": [
    "<img src=\"figs/testimage.png\">"
   ]
  },
  {
   "cell_type": "markdown",
   "metadata": {},
   "source": [
    "## H<sub>2</sub>O symmetric O-H dissociation"
   ]
  },
  {
   "cell_type": "code",
   "execution_count": 7,
   "metadata": {},
   "outputs": [],
   "source": [
    "bond_lengths = np.linspace(0.5,2.7,15)"
   ]
  },
  {
   "cell_type": "code",
   "execution_count": 8,
   "metadata": {},
   "outputs": [
    {
     "name": "stdout",
     "output_type": "stream",
     "text": [
      "E = -73.14278405998408 Eh\n",
      "E = -74.47523205267994 Eh\n",
      "E = -74.90413378058085 Eh\n",
      "E = -75.01383133956638 Eh\n",
      "E = -75.00356512166869 Eh\n",
      "E = -74.95170869126753 Eh\n",
      "E = -74.8921864821597 Eh\n",
      "E = -74.83923063661545 Eh\n",
      "E = -74.79866365936483 Eh\n",
      "E = -74.77161515186873 Eh\n",
      "E = -74.75568947215943 Eh\n",
      "E = -74.74704715250577 Eh\n",
      "E = -74.74248898749259 Eh\n",
      "E = -74.74007426355803 Eh\n",
      "Could not converge\n"
     ]
    }
   ],
   "source": [
    "#Run FCI\n",
    "FCI_PES = obtain_PES('h2o', bond_lengths, basis, method='fci')"
   ]
  },
  {
   "cell_type": "code",
   "execution_count": 9,
   "metadata": {},
   "outputs": [
    {
     "name": "stdout",
     "output_type": "stream",
     "text": [
      "E = -73.1294816132027 Eh\n",
      "E = -74.45343797012882 Eh\n",
      "E = -74.87055361048274 Eh\n",
      "E = -74.96308510923824 Eh\n",
      "E = -74.92817508739554 Eh\n",
      "E = -74.84281942863745 Eh\n",
      "E = -74.74051950148719 Eh\n",
      "E = -74.63577758413565 Eh\n",
      "E = -74.53576638657329 Eh\n",
      "E = -74.4449438474384 Eh\n",
      "E = -74.36975504261729 Eh\n",
      "E = -74.29778481417816 Eh\n",
      "E = -74.24167220050909 Eh\n",
      "E = -74.27129957697417 Eh\n",
      "Could not converge\n"
     ]
    }
   ],
   "source": [
    "#Run HF\n",
    "HF_PES = obtain_PES('h2o', bond_lengths, basis,  method='hf')"
   ]
  },
  {
   "cell_type": "code",
   "execution_count": 10,
   "metadata": {},
   "outputs": [
    {
     "name": "stdout",
     "output_type": "stream",
     "text": [
      "E = -73.1427636391869 Eh\n",
      "E = -74.47519485717146 Eh\n",
      "E = -74.90406353010555 Eh\n",
      "E = -75.01370018934803 Eh\n",
      "E = -75.00330155818891 Eh\n",
      "E = -74.95116757042632 Eh\n",
      "E = -74.89128367467832 Eh\n",
      "E = -74.8385340113911 Eh\n",
      "E = -74.80070162375989 Eh\n",
      "E = -74.78105738717322 Eh\n",
      "E = -74.74394274755763 Eh\n",
      "E = -74.77972801511778 Eh\n",
      "E = -74.78338963453103 Eh\n",
      "E = -74.64224434263167 Eh\n",
      "Could not converge\n"
     ]
    }
   ],
   "source": [
    "#Run CCSD\n",
    "CCSD_PES = obtain_PES('h2o', bond_lengths, basis,  method='ccsd')"
   ]
  },
  {
   "cell_type": "code",
   "execution_count": 11,
   "metadata": {},
   "outputs": [
    {
     "data": {
      "text/plain": [
       "<matplotlib.legend.Legend at 0x7f8ddde9d860>"
      ]
     },
     "execution_count": 11,
     "metadata": {},
     "output_type": "execute_result"
    },
    {
     "data": {
      "image/png": "[encoded data removed]",
      "text/plain": [
       "<Figure size 432x288 with 1 Axes>"
      ]
     },
     "metadata": {
      "needs_background": "light"
     },
     "output_type": "display_data"
    }
   ],
   "source": [
    "#Plot H2O PESs\n",
    "\n",
    "plt.title('H2O symmetric dissociation, STO-3G')\n",
    "plt.xlabel('R, Angstrom')\n",
    "plt.ylabel('E, Hartree')\n",
    "\n",
    "plt.plot(bond_lengths, FCI_PES, label='FCI')\n",
    "plt.scatter(bond_lengths, HF_PES, label='HF', color='orange')\n",
    "plt.scatter(bond_lengths, CCSD_PES, label='CCSD', color='purple')\n",
    "plt.legend()"
   ]
  },
  {
   "cell_type": "code",
   "execution_count": null,
   "metadata": {},
   "outputs": [],
   "source": []
  },
  {
   "cell_type": "markdown",
   "metadata": {},
   "source": [
    "# Generating Qubit Hamiltonians"
   ]
  },
  {
   "cell_type": "code",
   "execution_count": 1,
   "metadata": {},
   "outputs": [],
   "source": [
    "from utility import *\n",
    "import numpy as np "
   ]
  },
  {
   "cell_type": "markdown",
   "metadata": {},
   "source": [
    "Specify the Qubit Hamiltonian of a molecule by its name, internuclear distances, basis set, and fermion-to-qubit transformation.\n",
    "Here, we show the resulting Hamiltonian for $H_2$ in STO-3G with $1\\overset{\\circ}{A}$ between the $H$ atoms. "
   ]
  },
  {
   "cell_type": "code",
   "execution_count": 2,
   "metadata": {
    "tags": []
   },
   "outputs": [
    {
     "name": "stdout",
     "output_type": "stream",
     "text": [
      "H:\n",
      "-0.3276081896748093 [] +\n",
      "-0.04919764587136755 [X0 X1 Y2 Y3] +\n",
      "0.04919764587136755 [X0 Y1 Y2 X3] +\n",
      "0.04919764587136755 [Y0 X1 X2 Y3] +\n",
      "-0.04919764587136755 [Y0 Y1 X2 X3] +\n",
      "0.13716572937099508 [Z0] +\n",
      "0.15660062488237947 [Z0 Z1] +\n",
      "0.10622904490856075 [Z0 Z2] +\n",
      "0.15542669077992832 [Z0 Z3] +\n",
      "0.13716572937099503 [Z1] +\n",
      "0.15542669077992832 [Z1 Z2] +\n",
      "0.10622904490856075 [Z1 Z3] +\n",
      "-0.13036292057109106 [Z2] +\n",
      "0.16326768673564346 [Z2 Z3] +\n",
      "-0.13036292057109106 [Z3]\n"
     ]
    }
   ],
   "source": [
    "qubit_transf = 'jw' # Jordan-Wigner transformations\n",
    "h2 = get_qubit_hamiltonian(mol='h2', geometry=1, basis='sto3g', qubit_transf=qubit_transf)\n",
    "print(\"H:\\n{}\".format(h2))"
   ]
  },
  {
   "cell_type": "markdown",
   "metadata": {},
   "source": [
    "This Qubit Hamiltonian encodes all of the $2^N$ eigenstates and eigenenergies, where $N=4$ is the number of qubits. \n",
    "In principle, one can represent the Hamiltonian as a matrix with $2^N$ dimensions and find the eigenvalues classically through diagonalization, but the cost of this approach clearly grows exponentially with $N$. \n",
    "\n",
    "Still, we can check that this approach indeed recovers the ground state energy against method in S1. "
   ]
  },
  {
   "cell_type": "code",
   "execution_count": 3,
   "metadata": {},
   "outputs": [
    {
     "name": "stdout",
     "output_type": "stream",
     "text": [
      "The ground state energy from S1: \n",
      "E = -1.1011503301329566 Eh\n",
      "\n",
      "The eigenvalues in the matrix representation of Hamiltonian: \n",
      "[-1.10115033 -0.74587179 -0.74587179 -0.74587179 -0.60860671 -0.60860671\n",
      " -0.58166697 -0.58166697 -0.35229063 -0.06021529 -0.06021529 -0.05994379\n",
      " -0.05994379  0.03904763  0.50196598  0.52917721]\n"
     ]
    }
   ],
   "source": [
    "# Defining pauli matrices \n",
    "I, X, Y, Z = np.identity(2), np.array([[0, 1], [1, 0]]), np.array([[0, -1j], [1j, 0]]), np.array([[1, 0], [0, -1]])\n",
    "\n",
    "# Build matrix representiation of the Hamiltonian H\n",
    "n_qubits = openfermion.count_qubits(h2)\n",
    "h2_matrix = np.zeros((2**n_qubits, 2**n_qubits), dtype=np.complex)\n",
    "for term, term_coeff in h2.terms.items(): # Iterate over pauli-words of H\n",
    "    term = dict(term) # Dict[qubit_index, 'X'/'Y'/'Z']\n",
    "    \n",
    "    # Build matrix rep of current pauli-word using kronecker product to represent x_i y_j ...\n",
    "    pw_matrix = np.identity(1)\n",
    "    for i in range(n_qubits):\n",
    "        if i not in term:        pw_matrix = np.kron(pw_matrix, I)\n",
    "        else:\n",
    "            if term[i] == 'X':   pw_matrix = np.kron(pw_matrix, X)\n",
    "            elif term[i] == 'Y': pw_matrix = np.kron(pw_matrix, Y)\n",
    "            else:                pw_matrix = np.kron(pw_matrix, Z)\n",
    "    h2_matrix += pw_matrix * term_coeff\n",
    "\n",
    "eigvals, _ = np.linalg.eigh(h2_matrix)\n",
    "print(\"The ground state energy from S1: \")\n",
    "obtain_PES('h2', [1], 'sto-3g', 'fci')\n",
    "print(\"\\nThe eigenvalues in the matrix representation of Hamiltonian: \\n{}\".format(eigvals))"
   ]
  },
  {
   "cell_type": "markdown",
   "metadata": {},
   "source": [
    "Alternatively, the qubit-tapering technique can find a smaller effective Hamitlonian by subsitituting operators with $\\pm 1$. This technique is detailed in Bravyi's work ([Bravyi et al., \"Tapering off qubits to simulate fermionic Hamiltonians\", arXiv:1701.08213](https://arxiv.org/abs/1701.08213)). "
   ]
  },
  {
   "cell_type": "code",
   "execution_count": 4,
   "metadata": {
    "tags": []
   },
   "outputs": [
    {
     "name": "stdout",
     "output_type": "stream",
     "text": [
      "The effective Hamiltonian:\n",
      " -0.5310513494337645 [] +\n",
      "0.1967905834854702 [X0] +\n",
      "-0.5350572998841723 [Z0]\n"
     ]
    }
   ],
   "source": [
    "print(\"The effective Hamiltonian:\\n {}\".format(taper_hamiltonian(h2, n_spin_orbitals=4, n_electrons=2, qubit_transf=qubit_transf))) "
   ]
  },
  {
   "cell_type": "markdown",
   "metadata": {},
   "source": [
    "We can verify that this new Hamiltonian still encodes the ground state energy. "
   ]
  },
  {
   "cell_type": "code",
   "execution_count": 5,
   "metadata": {
    "tags": []
   },
   "outputs": [
    {
     "name": "stdout",
     "output_type": "stream",
     "text": [
      "The eigenvalues in the effective Hamiltonian: \n",
      " [-1.10115031  0.03904763]\n"
     ]
    }
   ],
   "source": [
    "# Building the matrix representation of the effective Hamiltonian\n",
    "h2_matrix = -0.53105134 * I + 0.19679058 * X - 0.53505729 * Z\n",
    "\n",
    "# Obtain the eigenvalues\n",
    "eigvals, _ = np.linalg.eigh(h2_matrix)\n",
    "print(\"The eigenvalues in the effective Hamiltonian: \\n {}\".format(eigvals))"
   ]
  },
  {
   "cell_type": "markdown",
   "metadata": {},
   "source": [
    "# Unitary ansatz entering the VQE\n",
    "\n",
    "The final energy output of a VQE calculation will crucially depend on the ansatz/form of the parameterized unitary $\\hat U(\\boldsymbol{\\theta})$ employed in state preparation. Here we review two popular approaches, the unitary coupled cluster and qubit coupled cluster methodologies, and benchmark them for energy calculations of small molecules."
   ]
  },
  {
   "cell_type": "code",
   "execution_count": 1,
   "metadata": {},
   "outputs": [],
   "source": [
    "import numpy as np\n",
    "import tequila as tq\n",
    "from utility import *\n",
    "threshold = 1e-6 #Cutoff for UCC MP2 amplitudes and QCC ranking gradients"
   ]
  },
  {
   "cell_type": "markdown",
   "metadata": {},
   "source": [
    "## Unitary Coupled Cluster (UCC)\n",
    "\n",
    "The UCC ansatz is obtained by 'unitarizing' the traditional coupled cluster ansatz,\n",
    "$$ e^{\\hat T} \\rightarrow e^{\\hat T - \\hat T^\\dagger} \\equiv \\hat U_{\\text{UCC}}$$\n",
    "\n",
    "\n",
    "Due to non-commutativity of terms in $\\hat T - \\hat T^\\dagger$, the UCC ansatz does not have a straightforward decomposition in terms of circuit primitives implementable on the quantum computer. Therefore, to obtain a form which can be compiled, we employ the Trotter approximation. The accuracy of the circuit ansatz relative to the exact UCC operator will be dependent on how many Trotter steps are employed. The number of Trotter steps is commonly set to its minimal value of one to avoid excessive circuit depth."
   ]
  },
  {
   "cell_type": "code",
   "execution_count": 2,
   "metadata": {},
   "outputs": [],
   "source": [
    "trotter_steps = 1"
   ]
  },
  {
   "cell_type": "markdown",
   "metadata": {},
   "source": [
    "### H2 in STO-3G basis\n",
    "\n",
    "Below is a sample VQE simulation using the UCCSD ansatz compiled using a single trotter step for H$_2$ in minimal basis at $R=2.5$ (Angstrom). For comparison, we can run FCI to obtain the true ground state energy.\n"
   ]
  },
  {
   "cell_type": "code",
   "execution_count": 3,
   "metadata": {},
   "outputs": [
    {
     "name": "stdout",
     "output_type": "stream",
     "text": [
      "Number of spin-orbitals (qubits): 4 \n",
      "\n",
      "FCI energy: -0.9360549199436616\n"
     ]
    }
   ],
   "source": [
    "xyz_data = get_molecular_data('h2', geometry=2.5, xyz_format=True)\n",
    "basis='sto-3g'\n",
    "\n",
    "h2 = tq.quantumchemistry.Molecule(geometry=xyz_data, basis_set=basis)\n",
    "\n",
    "print('Number of spin-orbitals (qubits): {} \\n'.format(2*h2.n_orbitals))\n",
    "\n",
    "E_FCI = h2.compute_energy(method='fci')\n",
    "\n",
    "print('FCI energy: {}'.format(E_FCI))"
   ]
  },
  {
   "cell_type": "markdown",
   "metadata": {},
   "source": [
    "The UCCSD VQE optimization is of the form\n",
    "$$E = \\min_{\\boldsymbol{\\theta}} \\langle \\text{HF} | \\hat U_{\\text{UCC}}^\\dagger(\\boldsymbol{\\theta}) \\hat H  \\hat U_{\\text{UCC}} (\\boldsymbol{\\theta}) | \\text{HF} \\rangle $$\n",
    "To expedite the optimization process, we can set the initial guess of the amplitudes to zero, i.e. the optimization will begin at the Hartree Fock state. This heuristic is best suited for when Hartree Fock is believed to be in qualitative agreement with the true ground state. To further alleviate quantum resources, we can estimate the amplitudes using classical electronic structure methods (here, MP2 perturbation theory), and only include the unitaries with non-zero estimated amplitudes."
   ]
  },
  {
   "cell_type": "code",
   "execution_count": 4,
   "metadata": {
    "scrolled": true
   },
   "outputs": [
    {
     "name": "stderr",
     "output_type": "stream",
     "text": [
      "WARNING:absl:No GPU/TPU found, falling back to CPU. (Set TF_CPP_MIN_LOG_LEVEL=0 and rerun for more info.)\n"
     ]
    },
    {
     "name": "stdout",
     "output_type": "stream",
     "text": [
      "\n",
      "Hamiltonian has 15 terms\n",
      "\n",
      "\n",
      "Number of UCCSD amplitudes: 1 \n",
      "\n",
      "\n",
      "Starting optimization:\n",
      "\n",
      "Optimizer: <class 'tequila.optimizers.optimizer_scipy.OptimizerSciPy'> \n",
      "backend         : qulacs\n",
      "device          : None\n",
      "samples         : None\n",
      "save_history    : True\n",
      "noise           : None\n",
      "\n",
      "Method          : BFGS\n",
      "Objective       : 1 expectationvalues\n",
      "gradient        : 4 expectationvalues\n",
      "\n",
      "active variables : 1\n",
      "\n",
      "E=-0.70294360  angles= {(1, 0, 1, 0): 0.0}  samples= None\n",
      "E=-0.92698007  angles= {(1, 0, 1, 0): -0.5644201040267944}  samples= None\n",
      "E=-0.93354955  angles= {(1, 0, 1, 0): -0.756477615750158}  samples= None\n",
      "E=-0.93605486  angles= {(1, 0, 1, 0): -0.6900732530769251}  samples= None\n",
      "E=-0.93605492  angles= {(1, 0, 1, 0): -0.690408042440764}  samples= None\n",
      "E=-0.93605492  angles= {(1, 0, 1, 0): -0.6904070056201885}  samples= None\n",
      "Optimization terminated successfully.\n",
      "         Current function value: -0.936055\n",
      "         Iterations: 5\n",
      "         Function evaluations: 6\n",
      "         Gradient evaluations: 6\n",
      "\n",
      "Obtained UCCSD energy: -0.936054919943658\n"
     ]
    }
   ],
   "source": [
    "H = h2.make_hamiltonian()\n",
    "\n",
    "print(\"\\nHamiltonian has {} terms\\n\".format(len(H)))\n",
    "\n",
    "U_UCCSD = h2.make_uccsd_ansatz(initial_amplitudes='MP2',threshold=threshold, trotter_steps=trotter_steps)\n",
    "\n",
    "E = tq.ExpectationValue(H=H, U=U_UCCSD)\n",
    "\n",
    "print('\\nNumber of UCCSD amplitudes: {} \\n'.format(len(E.extract_variables())))\n",
    "\n",
    "print('\\nStarting optimization:\\n')\n",
    "\n",
    "result = tq.minimize(objective=E, method=\"BFGS\", initial_values={k:0.0 for k in E.extract_variables()}, tol=1e-6)\n",
    "\n",
    "print('\\nObtained UCCSD energy: {}'.format(result.energy))"
   ]
  },
  {
   "cell_type": "markdown",
   "metadata": {},
   "source": [
    "We see that the converged UCCSD energy is in exact agreement with the FCI energy, as expected for a $2$-electron system. \n",
    "\n",
    "### H2O in 6-31G basis\n",
    "\n",
    "Now let us try a larger problem of H$_2$O in 6-31G basis. However, we will restrict the active space. The unrestricted problem leads to a $14$-qubit Hamiltonian, and $34$ UCCSD amplitudes to optimize even after neglecting the zero MP2 amplitudes. Therefore, we will remove some orbital degrees of freedom which are less important in accurately describing the electronic structure. By freezing all orbitals other than $0b_1$, $1b_1$, $2a_1$, and $3a_1$, we reduce the problem to an $8$-qubit Hamiltonian with $8$ UCCSD variational amplitudes."
   ]
  },
  {
   "cell_type": "code",
   "execution_count": 5,
   "metadata": {},
   "outputs": [
    {
     "name": "stdout",
     "output_type": "stream",
     "text": [
      "Number of spin-orbitals (qubits): 8 \n",
      "\n",
      "FCI energy: -75.98980140961186\n"
     ]
    }
   ],
   "source": [
    "xyz_data = get_molecular_data('h2o', geometry=1, xyz_format=True)\n",
    "\n",
    "basis = '6-31g'\n",
    "active = {'B1':[0,1], 'A1':[2,3]}\n",
    "h2o = tq.quantumchemistry.Molecule(geometry=xyz_data, basis_set = basis, active_orbitals = active)\n",
    "\n",
    "print('Number of spin-orbitals (qubits): {} \\n'.format(2*h2o.n_orbitals))\n",
    "\n",
    "E_FCI = h2o.compute_energy(method='fci')\n",
    "\n",
    "print('FCI energy: {}'.format(E_FCI))"
   ]
  },
  {
   "cell_type": "markdown",
   "metadata": {},
   "source": [
    "We will then run the UCCSD VQE simulation (***warning: tq.minimize will take several minutes - 1 hour + to converge for a VQE instance of this size.*** Smaller active spaces can be employed to lower VQE simulation runtimes)."
   ]
  },
  {
   "cell_type": "code",
   "execution_count": 6,
   "metadata": {},
   "outputs": [
    {
     "name": "stdout",
     "output_type": "stream",
     "text": [
      "\n",
      "Hamiltonian has 185 terms\n",
      "\n",
      "\n",
      "Number of UCCSD amplitudes: 8 \n",
      "\n",
      "\n",
      "Starting optimization:\n",
      "\n",
      "Optimizer: <class 'tequila.optimizers.optimizer_scipy.OptimizerSciPy'> \n",
      "backend         : qulacs\n",
      "device          : None\n",
      "samples         : None\n",
      "save_history    : True\n",
      "noise           : None\n",
      "\n",
      "Method          : BFGS\n",
      "Objective       : 1 expectationvalues\n",
      "gradient        : 56 expectationvalues\n",
      "\n",
      "active variables : 8\n",
      "\n",
      "E=-75.98071144  angles= {(3, 0, 3, 0): 0.0, (3, 1, 2, 0): 0.0, (2, 1, 3, 0): 0.0, (2, 0, 3, 1): 0.0, (3, 0, 2, 1): 0.0, (2, 1, 2, 1): 0.0, (2, 0, 2, 0): 0.0, (3, 1, 3, 1): 0.0}  samples= None\n",
      "E=-75.93754867  angles= {(3, 0, 3, 0): -0.1516876220703125, (3, 1, 2, 0): -0.0050506591796875, (2, 1, 3, 0): -0.03458404541015625, (2, 0, 3, 1): -0.10162353515625, (3, 0, 2, 1): 0.06198883056640625, (2, 1, 2, 1): -0.06015777587890625, (2, 0, 2, 0): 0.07421112060546875, (3, 1, 3, 1): 0.07421112060546875}  samples= None\n",
      "E=-75.98799620  angles= {(3, 0, 3, 0): -0.04138819314568116, (3, 1, 2, 0): -0.0013780798643215435, (2, 1, 3, 0): -0.009436308194818062, (2, 0, 3, 1): -0.027728132617466705, (3, 0, 2, 1): 0.0169137445583271, (2, 1, 2, 1): -0.01641413856521959, (2, 0, 2, 0): 0.02024861456231972, (3, 1, 3, 1): 0.02024861456231972}  samples= None\n",
      "E=-75.97948737  angles= {(3, 0, 3, 0): -0.08474204483455652, (3, 1, 2, 0): 0.02741327615999866, (2, 1, 3, 0): -0.0402223360021889, (2, 0, 3, 1): 0.0064422449890112615, (3, 0, 2, 1): -0.0192513048312015, (2, 1, 2, 1): -0.0354875237496201, (2, 0, 2, 0): 0.04983606391729167, (3, 1, 3, 1): 0.04983606391729167}  samples= None\n",
      "E=-75.98882577  angles= {(3, 0, 3, 0): -0.05130396833861708, (3, 1, 2, 0): 0.005207000877424799, (2, 1, 3, 0): -0.016477604848506043, (2, 0, 3, 1): -0.019912776670892064, (3, 0, 2, 1): 0.00864217269981082, (2, 1, 2, 1): -0.020776551414118098, (2, 0, 2, 0): 0.027015775608164257, (3, 1, 3, 1): 0.027015775608164257}  samples= None\n",
      "E=-75.98890273  angles= {(3, 0, 3, 0): -0.04654102830510535, (3, 1, 2, 0): 0.0005258122420748503, (2, 1, 3, 0): -0.024828045758700186, (2, 0, 3, 1): -0.02519063615678118, (3, 0, 2, 1): 0.0008884026401558501, (2, 1, 2, 1): -0.021314884166292774, (2, 0, 2, 0): 0.031183809684731507, (3, 1, 3, 1): 0.031183809684731507}  samples= None\n",
      "E=-75.98894001  angles= {(3, 0, 3, 0): -0.04990111982232369, (3, 1, 2, 0): -0.001165097314064326, (2, 1, 3, 0): -0.02979735117905489, (2, 0, 3, 1): -0.027804559616253034, (3, 0, 2, 1): -0.0031578888768661727, (2, 1, 2, 1): -0.021853419722566127, (2, 0, 2, 0): 0.026670756902940167, (3, 1, 3, 1): 0.026670756902940164}  samples= None\n",
      "E=-75.98894385  angles= {(3, 0, 3, 0): -0.049012666403217525, (3, 1, 2, 0): 0.0009857158534402044, (2, 1, 3, 0): -0.028951707805851712, (2, 0, 3, 1): -0.027096203170101647, (3, 0, 2, 1): -0.0008754523305568272, (2, 1, 2, 1): -0.020771671871459965, (2, 0, 2, 0): 0.027433234354036128, (3, 1, 3, 1): 0.027433234354036124}  samples= None\n",
      "E=-75.98894563  angles= {(3, 0, 3, 0): -0.049063283234312166, (3, 1, 2, 0): -7.863729526707002e-05, (2, 1, 3, 0): -0.027269906653112772, (2, 0, 3, 1): -0.02636528238910491, (3, 0, 2, 1): -0.0009905420523455973, (2, 1, 2, 1): -0.021273582083945374, (2, 0, 2, 0): 0.02796763394932952, (3, 1, 3, 1): 0.027967633949329516}  samples= None\n",
      "E=-75.98894652  angles= {(3, 0, 3, 0): -0.04911104374096056, (3, 1, 2, 0): 5.948591868265091e-05, (2, 1, 3, 0): -0.028273411796749928, (2, 0, 3, 1): -0.02686575673586669, (3, 0, 2, 1): -0.0013550400341908093, (2, 1, 2, 1): -0.021482404660160586, (2, 0, 2, 0): 0.027549870792169535, (3, 1, 3, 1): 0.027549870792169532}  samples= None\n",
      "E=-75.98894652  angles= {(3, 0, 3, 0): -0.04921887050211509, (3, 1, 2, 0): 6.072038907518394e-05, (2, 1, 3, 0): -0.028268718703709235, (2, 0, 3, 1): -0.02686580327840492, (3, 0, 2, 1): -0.0013489926420634703, (2, 1, 2, 1): -0.02110203321539652, (2, 0, 2, 0): 0.027588533592866386, (3, 1, 3, 1): 0.027588533592866383}  samples= None\n",
      "E=-75.98894657  angles= {(3, 0, 3, 0): -0.04916452405071854, (3, 1, 2, 0): 6.0098195804516e-05, (2, 1, 3, 0): -0.028271084099368946, (2, 0, 3, 1): -0.026865779820204334, (3, 0, 2, 1): -0.0013520406266157772, (2, 1, 2, 1): -0.021293746645477923, (2, 0, 2, 0): 0.02756904690888898, (3, 1, 3, 1): 0.027569046908888978}  samples= None\n",
      "Optimization terminated successfully.\n",
      "         Current function value: -75.988947\n",
      "         Iterations: 8\n",
      "         Function evaluations: 12\n",
      "         Gradient evaluations: 12\n",
      "\n",
      "Obtained UCCSD energy: -75.98894657080837\n"
     ]
    }
   ],
   "source": [
    "H = h2o.make_hamiltonian()\n",
    "\n",
    "print(\"\\nHamiltonian has {} terms\\n\".format(len(H)))\n",
    "\n",
    "U_UCCSD = h2o.make_uccsd_ansatz(initial_amplitudes='MP2',threshold=threshold, trotter_steps=trotter_steps)\n",
    "\n",
    "E = tq.ExpectationValue(H=H, U=U_UCCSD)\n",
    "\n",
    "print('\\nNumber of UCCSD amplitudes: {} \\n'.format(len(E.extract_variables())))\n",
    "\n",
    "print('\\nStarting optimization:\\n')\n",
    "\n",
    "result = tq.minimize(objective=E, method=\"BFGS\", initial_values={k:0.0 for k in E.extract_variables()}, tol=1e-4)\n",
    "\n",
    "print('\\nObtained UCCSD energy: {}'.format(result.energy))"
   ]
  },
  {
   "cell_type": "markdown",
   "metadata": {},
   "source": [
    "We obtain a UCCSD energy within chemical accuracy (< 1.6 miliHartree from FCI energy) for the H$_2$O molecule near equilibrium geometry. As the bond distance approaches the dissociation limit, the energy deviation from FCI is typically expected to increase as electronic correlations increase during covalent bond-breaking. Furthermore, as HF becomes energetically more distant from the FCI wavefunction, the initial guess of all amplitudes being zero may lead to a local minimum. One can then instead initialize the amplitudes using random guesses, and repeat for $n$ samples to attempt to find the global minimum. To facilitate this, one can run the commented lines below. This will execute $n$ instances of tq.minimize for uniformly random initial parameters in interval $[0, 2\\pi]$ and return the lowest optimization result."
   ]
  },
  {
   "cell_type": "code",
   "execution_count": 7,
   "metadata": {},
   "outputs": [],
   "source": [
    "#n=10\n",
    "#result = minimize_E_random_guesses(objective=E, method='BFGS', tol=1e-4, n=n)"
   ]
  },
  {
   "cell_type": "markdown",
   "metadata": {},
   "source": [
    "## Qubit Coupled Cluster (QCC)\n",
    "\n",
    "In contrast to UCC, the QCC methodology makes no direct reference to fermionic algebra and seeks to construct an efficient ansatz directly in qubit-space by finding multi-qubit Pauli strings (entanglers) which lower energy. This is done through an energy-lowering heuristic employing the energy gradient with respect to a Pauli strings variational amplitude. As opposed to UCCSD, the circuit depth and number of parameter is chosen to meet hardware limitations, i.e. one must choose how many exponentiated Pauli strings will be entering the QCC ansatz.\n",
    "\n",
    "### H2 in STO-3G basis\n",
    "\n",
    "Below we perform the entangler screening protocol for H2 in minimal basis, and obtain one grouping of entanglers with non-zero energy gradient. We then select one of them to be used in the QCC VQE simulation."
   ]
  },
  {
   "cell_type": "code",
   "execution_count": 8,
   "metadata": {},
   "outputs": [
    {
     "name": "stdout",
     "output_type": "stream",
     "text": [
      "\n",
      "Hamiltonian has 15 terms\n",
      "\n",
      "Grouping gradient magnitudes (Grouping : Gradient magnitude):\n",
      "1 : 0.2822\n",
      "\n",
      "Selected entanglers:\n",
      "1.0 [X0 Y1 X2 X3]\n"
     ]
    }
   ],
   "source": [
    "xyz_data = get_molecular_data('h2', geometry=2.5, xyz_format=True)\n",
    "basis='sto-3g'\n",
    "\n",
    "h2 = tq.quantumchemistry.Molecule(geometry=xyz_data, basis_set='sto-3g')\n",
    "\n",
    "hf_reference = hf_occ(2*h2.n_orbitals, h2.n_electrons)\n",
    "\n",
    "H = h2.make_hamiltonian()\n",
    "\n",
    "print(\"\\nHamiltonian has {} terms\\n\".format(len(H)))\n",
    "\n",
    "#Define number of entanglers to enter ansatz\n",
    "n_ents = 1\n",
    "\n",
    "#Rank entanglers using energy gradient criterion\n",
    "ranked_entangler_groupings = generate_QCC_gradient_groupings(H.to_openfermion(), \n",
    "                                                             2*h2.n_orbitals, \n",
    "                                                             hf_reference, \n",
    "                                                             cutoff=threshold)\n",
    "\n",
    "print('Grouping gradient magnitudes (Grouping : Gradient magnitude):')\n",
    "for i in range(len(ranked_entangler_groupings)):\n",
    "    print('{} : {}'.format(i+1,ranked_entangler_groupings[i][1]))\n",
    "\n",
    "\n",
    "entanglers = get_QCC_entanglers(ranked_entangler_groupings, n_ents, 2*h2.n_orbitals)\n",
    "\n",
    "print('\\nSelected entanglers:')\n",
    "for ent in entanglers:\n",
    "    print(ent)\n",
    "\n"
   ]
  },
  {
   "cell_type": "markdown",
   "metadata": {},
   "source": [
    "Once the QCC ranking procedure has been ran, we can simulate the QCC VQE optimization with the generated entanglers. The VQE optimization for the QCC ansatz is of the form\n",
    "$$E = \\min_{\\boldsymbol{\\Omega}, \\boldsymbol{\\tau}} \\langle \\boldsymbol{\\Omega} | U_{\\text{ENT}}^\\dagger (\\boldsymbol{\\tau}) \\hat H  U_{\\text{ENT}} (\\boldsymbol{\\tau}) | \\boldsymbol{\\Omega} \\rangle $$\n",
    "where $\\boldsymbol{\\Omega}$ denote collective Euler angles parameterizing single-qubit rotations, and $\\boldsymbol{\\tau}$ are entangler amplitudes. "
   ]
  },
  {
   "cell_type": "code",
   "execution_count": 9,
   "metadata": {},
   "outputs": [
    {
     "name": "stdout",
     "output_type": "stream",
     "text": [
      "Optimizer: <class 'tequila.optimizers.optimizer_scipy.OptimizerSciPy'> \n",
      "backend         : qulacs\n",
      "device          : None\n",
      "samples         : None\n",
      "save_history    : True\n",
      "noise           : None\n",
      "\n",
      "Method          : BFGS\n",
      "Objective       : 1 expectationvalues\n",
      "gradient        : 18 expectationvalues\n",
      "\n",
      "active variables : 9\n",
      "\n",
      "E=-0.70294360  angles= {beta_0: 3.141592653589793, gamma_0: 0.0, beta_1: 3.141592653589793, gamma_1: 0.0, beta_2: 0.0, gamma_2: 0.0, beta_3: 0.0, gamma_3: 0.0, tau_0: 0.0}  samples= None\n",
      "E=-0.77938639  angles= {beta_0: 3.141592653589793, gamma_0: 0.0, beta_1: 3.141592653589793, gamma_1: 0.0, beta_2: 0.0, gamma_2: 0.0, beta_3: 0.0, gamma_3: 0.0, tau_0: 0.2822100520133972}  samples= None\n",
      "E=-0.93592356  angles= {beta_0: 3.141592653589793, gamma_0: 0.0, beta_1: 3.141592653589793, gamma_1: 0.0, beta_2: 0.0, gamma_2: 0.0, beta_3: 0.0, gamma_3: 0.0, tau_0: 1.411050260066986}  samples= None\n",
      "E=-0.93603455  angles= {beta_0: 3.141592653589793, gamma_0: 0.0, beta_1: 3.141592653589793, gamma_1: 0.0, beta_2: 0.0, gamma_2: 0.0, beta_3: 0.0, gamma_3: 0.0, tau_0: 1.3689076316049542}  samples= None\n",
      "E=-0.93605492  angles= {beta_0: 3.141592653589793, gamma_0: 0.0, beta_1: 3.141592653589793, gamma_1: 0.0, beta_2: 0.0, gamma_2: 0.0, beta_3: 0.0, gamma_3: 0.0, tau_0: 1.380815153240581}  samples= None\n",
      "Optimization terminated successfully.\n",
      "         Current function value: -0.936055\n",
      "         Iterations: 3\n",
      "         Function evaluations: 5\n",
      "         Gradient evaluations: 5\n",
      "\n",
      "Obtained QCC energy (1 entanglers): -0.9360549199434915\n"
     ]
    }
   ],
   "source": [
    "#Mean-field part of U (Omega):    \n",
    "U_MF = construct_QMF_ansatz(n_qubits = 2*h2.n_orbitals)\n",
    "#Entangling part of U:\n",
    "U_ENT = construct_QCC_ansatz(entanglers)\n",
    "\n",
    "U_QCC = U_MF + U_ENT\n",
    "\n",
    "E = tq.ExpectationValue(H=H, U=U_QCC)\n",
    "\n",
    "initial_vals = init_qcc_params(hf_reference, E.extract_variables())\n",
    "\n",
    "#Minimize wrt the entangler amplitude and MF angles:\n",
    "result = tq.minimize(objective=E, method=\"BFGS\", initial_values=initial_vals, tol=1.e-6)\n",
    "\n",
    "print('\\nObtained QCC energy ({} entanglers): {}'.format(len(entanglers), result.energy))"
   ]
  },
  {
   "cell_type": "markdown",
   "metadata": {},
   "source": [
    "We see that the QCC energy converged to the FCI energy with only a single entangler! \n",
    "\n",
    "### H2O in 6-31G basis\n",
    "\n",
    "Let us move on to the problem of H$_2$O in 6-31G basis using the same active space as the UCCSD example."
   ]
  },
  {
   "cell_type": "code",
   "execution_count": 10,
   "metadata": {},
   "outputs": [
    {
     "name": "stdout",
     "output_type": "stream",
     "text": [
      "\n",
      "Hamiltonian has 185 terms\n",
      "\n",
      "Grouping gradient magnitudes (Grouping : Gradient magnitude):\n",
      "1 : 0.0758\n",
      "2 : 0.0371\n",
      "3 : 0.0371\n",
      "4 : 0.031\n",
      "5 : 0.0301\n",
      "6 : 0.0249\n",
      "7 : 0.0198\n",
      "8 : 0.0198\n",
      "9 : 0.0173\n",
      "10 : 0.0173\n",
      "11 : 0.0\n",
      "12 : 0.0\n",
      "\n",
      "Selected entanglers:\n",
      "1.0 [X0 Y1 X6 X7]\n",
      "1.0 [X0 Y3 X5 X6]\n",
      "1.0 [X1 Y2 X4 X7]\n",
      "1.0 [X2 Y3 X4 X5]\n",
      "1.0 [X0 Y1 X4 X5]\n",
      "1.0 [X2 Y3 X6 X7]\n"
     ]
    }
   ],
   "source": [
    "xyz_data = get_molecular_data('h2o', geometry=1, xyz_format=True)\n",
    "\n",
    "basis = '6-31g'\n",
    "active = {'B1':[0,1], 'A1':[2,3]}\n",
    "h2o = tq.quantumchemistry.Molecule(geometry=xyz_data, basis_set = basis, active_orbitals = active)\n",
    "hf_reference = hf_occ(2*h2o.n_orbitals, h2o.n_electrons)\n",
    "\n",
    "\n",
    "H = h2o.make_hamiltonian()\n",
    "\n",
    "print(\"\\nHamiltonian has {} terms\\n\".format(len(H)))\n",
    "\n",
    "#Define number of entanglers to enter ansatz\n",
    "n_ents = 6\n",
    "\n",
    "#Rank entanglers using energy gradient criterion\n",
    "ranked_entangler_groupings = generate_QCC_gradient_groupings(H.to_openfermion(), \n",
    "                                                             2*h2o.n_orbitals, \n",
    "                                                             hf_reference, \n",
    "                                                             cutoff=threshold)\n",
    "\n",
    "print('Grouping gradient magnitudes (Grouping : Gradient magnitude):')\n",
    "for i in range(len(ranked_entangler_groupings)):\n",
    "    print('{} : {}'.format(i+1,ranked_entangler_groupings[i][1]))\n",
    "\n",
    "entanglers = get_QCC_entanglers(ranked_entangler_groupings, n_ents, 2*h2o.n_orbitals)\n",
    "\n",
    "print('\\nSelected entanglers:')\n",
    "for ent in entanglers:\n",
    "    print(ent)"
   ]
  },
  {
   "cell_type": "markdown",
   "metadata": {},
   "source": [
    "With the 6 chosen entanglers, we can then run the QCC VQE simulation."
   ]
  },
  {
   "cell_type": "code",
   "execution_count": 11,
   "metadata": {},
   "outputs": [
    {
     "name": "stdout",
     "output_type": "stream",
     "text": [
      "Optimizer: <class 'tequila.optimizers.optimizer_scipy.OptimizerSciPy'> \n",
      "backend         : qulacs\n",
      "device          : None\n",
      "samples         : None\n",
      "save_history    : True\n",
      "noise           : None\n",
      "\n",
      "Method          : BFGS\n",
      "Objective       : 1 expectationvalues\n",
      "gradient        : 44 expectationvalues\n",
      "\n",
      "active variables : 22\n",
      "\n",
      "E=-75.98071144  angles= {beta_0: 3.141592653589793, gamma_0: 0.0, beta_1: 3.141592653589793, gamma_1: 0.0, beta_2: 3.141592653589793, gamma_2: 0.0, beta_3: 3.141592653589793, gamma_3: 0.0, beta_4: 0.0, gamma_4: 0.0, beta_5: 0.0, gamma_5: 0.0, beta_6: 0.0, gamma_6: 0.0, beta_7: 0.0, gamma_7: 0.0, tau_0: 0.0, tau_1: 0.0, tau_2: 0.0, tau_3: 0.0, tau_4: 0.0, tau_5: 0.0}  samples= None\n",
      "E=-75.98783364  angles= {beta_0: 3.141592653589793, gamma_0: 0.0, beta_1: 3.141592653589793, gamma_1: 0.0, beta_2: 3.141592653589793, gamma_2: 0.0, beta_3: 3.141592653589793, gamma_3: 0.0, beta_4: 0.0, gamma_4: 0.0, beta_5: 0.0, gamma_5: 0.0, beta_6: 0.0, gamma_6: 0.0, beta_7: 0.0, gamma_7: 0.0, tau_0: 0.07584381103515625, tau_1: 0.037105560302734375, tau_2: 0.037105560302734375, tau_3: 0.030994415283203125, tau_4: 0.030078887939453125, tau_5: 0.02489471435546875}  samples= None\n",
      "E=-75.98857329  angles= {beta_0: 3.141592653589793, gamma_0: 0.0, beta_1: 3.141592653589793, gamma_1: 0.0, beta_2: 3.141592653589793, gamma_2: 0.0, beta_3: 3.141592653589793, gamma_3: 0.0, beta_4: 0.0, gamma_4: 0.0, beta_5: 0.0, gamma_5: 0.0, beta_6: 0.0, gamma_6: 0.0, beta_7: 0.0, gamma_7: 0.0, tau_0: 0.10182924911229851, tau_1: 0.05852392400836017, tau_2: 0.05929046375096231, tau_3: 0.04690411561128141, tau_4: 0.04177333199687153, tau_5: 0.034928801986562105}  samples= None\n",
      "E=-75.98858260  angles= {beta_0: 3.141592653589793, gamma_0: 0.0, beta_1: 3.141592653589793, gamma_1: 0.0, beta_2: 3.141592653589793, gamma_2: 0.0, beta_3: 3.141592653589793, gamma_3: 0.0, beta_4: 0.0, gamma_4: 0.0, beta_5: 0.0, gamma_5: 0.0, beta_6: 0.0, gamma_6: 0.0, beta_7: 0.0, gamma_7: 0.0, tau_0: 0.09969372766103793, tau_1: 0.060473123892992676, tau_2: 0.06154808363690651, tau_3: 0.04783285764604097, tau_4: 0.04149071210908681, tau_5: 0.03461542873870059}  samples= None\n",
      "E=-75.98858369  angles= {beta_0: 3.141592653589793, gamma_0: 0.0, beta_1: 3.141592653589793, gamma_1: 0.0, beta_2: 3.141592653589793, gamma_2: 0.0, beta_3: 3.141592653589793, gamma_3: 0.0, beta_4: 0.0, gamma_4: 0.0, beta_5: 0.0, gamma_5: 0.0, beta_6: 0.0, gamma_6: 0.0, beta_7: 0.0, gamma_7: 0.0, tau_0: 0.09850072062214467, tau_1: 0.06125613956121948, tau_2: 0.06252892067861264, tau_3: 0.048183794335591834, tau_4: 0.04135121252205053, tau_5: 0.0344043002864432}  samples= None\n",
      "Optimization terminated successfully.\n",
      "         Current function value: -75.988584\n",
      "         Iterations: 4\n",
      "         Function evaluations: 5\n",
      "         Gradient evaluations: 5\n",
      "\n",
      "Obtained QCC energy (6 entanglers): -75.9885836880467\n"
     ]
    }
   ],
   "source": [
    "#Mean-field part of U (Omega):    \n",
    "U_MF = construct_QMF_ansatz(n_qubits = 2*h2o.n_orbitals)\n",
    "#Entangling part of U:\n",
    "U_ENT = construct_QCC_ansatz(entanglers)\n",
    "\n",
    "U_QCC = U_MF + U_ENT\n",
    "\n",
    "E = tq.ExpectationValue(H=H, U=U_QCC)\n",
    "\n",
    "initial_vals = init_qcc_params(hf_reference, E.extract_variables())\n",
    "\n",
    "#Minimize wrt the entangler amplitude and MF angles:\n",
    "result = tq.minimize(objective=E, method=\"BFGS\", initial_values=initial_vals, tol=1.e-4)\n",
    "\n",
    "\n",
    "print('\\nObtained QCC energy ({} entanglers): {}'.format(len(entanglers), result.energy))"
   ]
  },
  {
   "cell_type": "markdown",
   "metadata": {},
   "source": [
    "We obtain chemical accuracy for water near equilibrium geometry with only 6 entanglers. The obtained energy is not as accurate as that of UCCSD for this problem, however the QCC optimization may be performed at a fraction of the UCCSD circuit depth. One can also increase the number of entanglers entering the QCC ansatz to increase accuracy. As a final check, one can always run $n$ VQE trials with random initial guesses to test if the optimization fell into a local minimum. ***(Warning: Completing n=10 trials may take a few minutes for this VQE instance).***"
   ]
  },
  {
   "cell_type": "code",
   "execution_count": 12,
   "metadata": {},
   "outputs": [
    {
     "name": "stdout",
     "output_type": "stream",
     "text": [
      "\n",
      "Obtained QCC energy (6 entanglers): -75.9885836820436\n"
     ]
    }
   ],
   "source": [
    "n = 10\n",
    "result = minimize_E_random_guesses(objective=E, method='BFGS', tol=1e-4, n=n)\n",
    "\n",
    "print('\\nObtained QCC energy ({} entanglers): {}'.format(len(entanglers), result))"
   ]
  },
  {
   "cell_type": "markdown",
   "metadata": {},
   "source": [
    "# Measurement Grouping\n",
    "\n",
    "Since current quantum hardware is limited to single-qubit projective measurement, only terms commuting within individual qubit's subspace can be measured together. These terms are said to be qubit-wise commuting (QWC). \n",
    "\n",
    "Thus, one can not measure the entire electronic Hamiltonian $\\hat H$ at once, and instead needs to separate it into fragments. \n",
    "$$\\hat H = \\sum_n \\hat H_n$$\n",
    "where each $\\hat H_n$ is a QWC fragment. "
   ]
  },
  {
   "cell_type": "code",
   "execution_count": 1,
   "metadata": {},
   "outputs": [],
   "source": [
    "from utility import * "
   ]
  },
  {
   "cell_type": "markdown",
   "metadata": {},
   "source": [
    "Here we use $H_2$ as an example for finding QWC fragments. Notice below that each fragment has the same terms on all qubits.  \n",
    "\n",
    "To show differences between QWC and more advanced grouping, we didn't use the qubit-tappering techinique shown in step 2."
   ]
  },
  {
   "cell_type": "code",
   "execution_count": 2,
   "metadata": {
    "tags": []
   },
   "outputs": [
    {
     "name": "stdout",
     "output_type": "stream",
     "text": [
      "Fragments 1: \n",
      "0.13716572937099508 [Z0] +\n",
      "0.15660062488237947 [Z0 Z1] +\n",
      "0.10622904490856075 [Z0 Z2] +\n",
      "0.15542669077992832 [Z0 Z3] +\n",
      "0.13716572937099503 [Z1] +\n",
      "0.15542669077992832 [Z1 Z2] +\n",
      "0.10622904490856075 [Z1 Z3] +\n",
      "-0.13036292057109106 [Z2] +\n",
      "0.16326768673564346 [Z2 Z3] +\n",
      "-0.13036292057109106 [Z3]\n",
      "\n",
      "Fragments 2:\n",
      "-0.04919764587136755 [X0 X1 Y2 Y3]\n",
      "\n",
      "Number of fragments: 5\n"
     ]
    }
   ],
   "source": [
    "h2 = get_qubit_hamiltonian(mol='h2', geometry=1, basis='sto3g', qubit_transf='jw')\n",
    "\n",
    "qwc_list = get_qwc_group(h2)\n",
    "print('Fragments 1: \\n{}\\n'.format(qwc_list[4]))\n",
    "print('Fragments 2:\\n{}\\n'.format(qwc_list[1]))\n",
    "print('Number of fragments: {}'.format(len(qwc_list)))"
   ]
  },
  {
   "cell_type": "markdown",
   "metadata": {},
   "source": [
    "By applying extra unitaries, one may rotate more terms of $\\hat H$ into a QWC fragment.  \n",
    "\n",
    "Recall that in digital quantum computing, the expectation value of $\\hat H_n$ given a trial wavefunction $|\\psi\\rangle$ is \n",
    "$$ E_n =\\ \\langle\\psi| \\hat H_n | \\psi\\rangle$$\n",
    "Inserting unitary transformation $\\hat U_n$ does not change the expectation value.\n",
    "$$ E_n =\\ \\langle\\psi| \\hat U_n^\\dagger \\hat U_n \\hat H_n \\hat U_n^\\dagger \\hat U_n  |\\psi\\rangle$$ \n",
    "This nonetheless changes the trial wavefunction and the terms to be measured. \n",
    "$$ |\\psi\\rangle \\rightarrow \\hat U_n |\\psi\\rangle = |\\phi\\rangle$$\n",
    "$$ \\hat H_n \\rightarrow \\hat U_n \\hat H_n \\hat U_n^\\dagger = \\hat A_n$$\n",
    "The transformation of $|\\psi \\rangle$ can be done on the quantum computer, and the transformation of $\\hat H_n$ is possible on the classical computer. \n",
    "\n",
    "Now, although $\\hat A_n$ needs to be a QWC fragment to be measurable on a quantum computer, $\\hat H_n$ does not. \n",
    "Instead, if we restrict $\\hat U_n$ to be a clifford operation, the terms in $\\hat H$ need only mutually commute. \n",
    "\n",
    "Here, we obtain measurable parts of $H_2$ by partitioning its terms into mutually commuting fragments. "
   ]
  },
  {
   "cell_type": "code",
   "execution_count": 3,
   "metadata": {
    "tags": []
   },
   "outputs": [
    {
     "name": "stdout",
     "output_type": "stream",
     "text": [
      "Number of mutually commuting fragments: 2\n",
      "The first commuting group\n",
      "-0.3276081896748093 [] +\n",
      "-0.04919764587136755 [X0 X1 Y2 Y3] +\n",
      "0.04919764587136755 [X0 Y1 Y2 X3] +\n",
      "0.04919764587136755 [Y0 X1 X2 Y3] +\n",
      "-0.04919764587136755 [Y0 Y1 X2 X3] +\n",
      "0.15660062488237947 [Z0 Z1] +\n",
      "0.10622904490856075 [Z0 Z2] +\n",
      "0.15542669077992832 [Z0 Z3] +\n",
      "0.15542669077992832 [Z1 Z2] +\n",
      "0.10622904490856075 [Z1 Z3] +\n",
      "0.16326768673564346 [Z2 Z3]\n"
     ]
    }
   ],
   "source": [
    "comm_groups = get_commuting_group(h2)\n",
    "print('Number of mutually commuting fragments: {}'.format(len(comm_groups)))\n",
    "print('The first commuting group')\n",
    "print(comm_groups[1])"
   ]
  },
  {
   "cell_type": "markdown",
   "metadata": {},
   "source": [
    "To see this fragment is indeed measurable, one can construct the corresponding unitary operator $\\hat U_n$."
   ]
  },
  {
   "cell_type": "code",
   "execution_count": 4,
   "metadata": {
    "tags": []
   },
   "outputs": [
    {
     "name": "stdout",
     "output_type": "stream",
     "text": [
      "This is unitary, U * U^+ = I \n",
      "(0.9999999999999996+0j) []\n"
     ]
    }
   ],
   "source": [
    "uqwc = get_qwc_unitary(comm_groups[1])\n",
    "print('This is unitary, U * U^+ = I ')\n",
    "print(uqwc * uqwc)"
   ]
  },
  {
   "cell_type": "markdown",
   "metadata": {},
   "source": [
    "Applying this unitary gives the qubit-wise commuting form of the first mutually commuting group"
   ]
  },
  {
   "cell_type": "code",
   "execution_count": 5,
   "metadata": {
    "tags": []
   },
   "outputs": [
    {
     "name": "stdout",
     "output_type": "stream",
     "text": [
      "-0.327608189674809 [] +\n",
      "0.1554266907799282 [X0] +\n",
      "0.1566006248823793 [X0 X1] +\n",
      "0.04919764587136754 [X0 X1 Z3] +\n",
      "0.1062290449085607 [X0 X2] +\n",
      "-0.04919764587136754 [X0 Z3] +\n",
      "0.1062290449085607 [X1] +\n",
      "0.1554266907799282 [X1 X2] +\n",
      "-0.04919764587136754 [X1 X2 Z3] +\n",
      "0.16326768673564332 [X2] +\n",
      "0.04919764587136754 [X2 Z3]\n"
     ]
    }
   ],
   "source": [
    "qwc = remove_complex(uqwc * comm_groups[1] * uqwc)\n",
    "print(qwc)"
   ]
  },
  {
   "cell_type": "markdown",
   "metadata": {},
   "source": [
    "In addition, current quantum computer can measure only the $z$ operators. Thus, QWC fragments with $x$ or $y$ operators require extra single-qubit unitaries that rotate them into $z$.  "
   ]
  },
  {
   "cell_type": "code",
   "execution_count": 6,
   "metadata": {
    "tags": []
   },
   "outputs": [
    {
     "name": "stdout",
     "output_type": "stream",
     "text": [
      "Checking whether U * U^+ is identity: 0.9999999999999998 []\n",
      "\n",
      "The all-z form of qwc fragment:\n",
      "-0.3276081896748088 [] +\n",
      "0.15542669077992813 [Z0] +\n",
      "0.15660062488237922 [Z0 Z1] +\n",
      "0.049197645871367504 [Z0 Z1 Z3] +\n",
      "0.10622904490856065 [Z0 Z2] +\n",
      "-0.049197645871367504 [Z0 Z3] +\n",
      "0.10622904490856065 [Z1] +\n",
      "0.15542669077992813 [Z1 Z2] +\n",
      "-0.049197645871367504 [Z1 Z2 Z3] +\n",
      "0.16326768673564326 [Z2] +\n",
      "0.049197645871367504 [Z2 Z3]\n"
     ]
    }
   ],
   "source": [
    "uz = get_zform_unitary(qwc)\n",
    "print(\"Checking whether U * U^+ is identity: {}\".format(uz * uz))\n",
    "\n",
    "allz = remove_complex(uz * qwc * uz)\n",
    "print(\"\\nThe all-z form of qwc fragment:\\n{}\".format(allz))"
   ]
  },
  {
   "cell_type": "markdown",
   "metadata": {},
   "source": [
    "# Quantum Circuits\n",
    "Quantum computers can only use a specific set of gates (universal gate set). Given the entanglers and their amplitudes found in Step 3, one can find corresponding representation of these operators in terms of elementary gates using the following procedure."
   ]
  },
  {
   "cell_type": "code",
   "execution_count": 1,
   "metadata": {},
   "outputs": [],
   "source": [
    "import os\n",
    "os.environ['KMP_DUPLICATE_LIB_OK']= 'True'\n",
    "\n",
    "import tequila as tq\n",
    "from utility import *"
   ]
  },
  {
   "cell_type": "markdown",
   "metadata": {},
   "source": [
    "First, we set up the Hamiltonian in Tequila's format and the unitary gates obtained in Step 3. "
   ]
  },
  {
   "cell_type": "code",
   "execution_count": 2,
   "metadata": {
    "tags": []
   },
   "outputs": [
    {
     "name": "stdout",
     "output_type": "stream",
     "text": [
      "circuit: \n",
      "Rx(target=(0,), parameter=beta_0)\n",
      "Rz(target=(0,), parameter=gamma_0)\n",
      "Rx(target=(1,), parameter=beta_1)\n",
      "Rz(target=(1,), parameter=gamma_1)\n",
      "Rx(target=(2,), parameter=beta_2)\n",
      "Rz(target=(2,), parameter=gamma_2)\n",
      "Rx(target=(3,), parameter=beta_3)\n",
      "Rz(target=(3,), parameter=gamma_3)\n",
      "Exp-Pauli(target=(0, 1, 2, 3), control=(), parameter=tau_0, paulistring=X(0)Y(1)X(2)X(3))\n",
      "\n"
     ]
    }
   ],
   "source": [
    "H = tq.QubitHamiltonian.from_openfermion(get_qubit_hamiltonian('h2', 2, 'sto-3g', qubit_transf='jw'))\n",
    "\n",
    "a = tq.Variable(\"tau_0\")\n",
    "U = construct_QMF_ansatz(4)\n",
    "U += tq.gates.ExpPauli(paulistring=tq.PauliString.from_string(\"X(0)Y(1)X(2)X(3)\"), angle=a)\n",
    "print(U)"
   ]
  },
  {
   "cell_type": "markdown",
   "metadata": {},
   "source": [
    "One can check the expectation value to see it is near the ground state energy."
   ]
  },
  {
   "cell_type": "code",
   "execution_count": 3,
   "metadata": {
    "tags": []
   },
   "outputs": [
    {
     "name": "stderr",
     "output_type": "stream",
     "text": [
      "WARNING:absl:No GPU/TPU found, falling back to CPU. (Set TF_CPP_MIN_LOG_LEVEL=0 and rerun for more info.)\n"
     ]
    },
    {
     "name": "stdout",
     "output_type": "stream",
     "text": [
      "-0.9486411121761621\n"
     ]
    }
   ],
   "source": [
    "E = tq.ExpectationValue(H=H, U=U)\n",
    "vars = {'beta_1': 3.141592624143881, 'beta_0': 3.141592624143881, 'tau_0': 1.1331410014096885, 'gamma_1': 0.0, 'beta_3': 0.0, 'gamma_3': 0.0, 'gamma_2': 0.0, 'gamma_0': 0.0, 'beta_2': 0.0} # values obtained from step 3\n",
    "print(tq.simulate(E, variables=vars))"
   ]
  },
  {
   "cell_type": "markdown",
   "metadata": {},
   "source": [
    "One can run the same experiment on a real quantum computer through IBM Quantum Experience (ibmq). After activating your account here (https://quantum-computing.ibm.com/login), copy the API token and execute the commented block below. "
   ]
  },
  {
   "cell_type": "code",
   "execution_count": 4,
   "metadata": {},
   "outputs": [],
   "source": [
    "# from qiskit import IBMQ\n",
    "# IBMQ.save_account('MY_API_TOKEN')"
   ]
  },
  {
   "cell_type": "code",
   "execution_count": 5,
   "metadata": {
    "tags": []
   },
   "outputs": [
    {
     "data": {
      "text/plain": [
       "-0.7276849297174877"
      ]
     },
     "execution_count": 5,
     "metadata": {},
     "output_type": "execute_result"
    }
   ],
   "source": [
    "# list of devices available can be found in ibmq account page\n",
    "# Try a device that isn't too busy. If the wait time is too long, measure only one pauli-word in the H2 Hamilotonian using the commented line\n",
    "#E = tq.ExpectationValue(H=tq.QubitHamiltonian.from_paulistrings(\"X(0)X(1)Y(2)Y(3)\"), U=U)\n",
    "tq.simulate(E, variables=vars, samples=100, backend=\"qiskit\", device='ibmq_manila')"
   ]
  },
  {
   "cell_type": "markdown",
   "metadata": {},
   "source": [
    "The following code block prints the circuit."
   ]
  },
  {
   "cell_type": "code",
   "execution_count": 4,
   "metadata": {
    "tags": []
   },
   "outputs": [
    {
     "data": {
      "text/html": [
       "<pre style=\"word-wrap: normal;white-space: pre;background: #fff0;line-height: 1.1;font-family: &quot;Courier New&quot;,Courier,monospace\">     ┌────────────────────┐┌─────────────────────┐   ┌───┐                  »\n",
       "q_0: ┤ RX(f((beta_0,))_0) ├┤ RZ(f((gamma_0,))_1) ├───┤ H ├─────■────────────»\n",
       "     ├────────────────────┤├─────────────────────┤┌──┴───┴──┐┌─┴─┐          »\n",
       "q_1: ┤ RX(f((beta_1,))_2) ├┤ RZ(f((gamma_1,))_3) ├┤ RX(π/2) ├┤ X ├──■───────»\n",
       "     ├────────────────────┤├─────────────────────┤└──┬───┬──┘└───┘┌─┴─┐     »\n",
       "q_2: ┤ RX(f((beta_2,))_4) ├┤ RZ(f((gamma_2,))_5) ├───┤ H ├────────┤ X ├──■──»\n",
       "     ├────────────────────┤├─────────────────────┤   ├───┤        └───┘┌─┴─┐»\n",
       "q_3: ┤ RX(f((beta_3,))_6) ├┤ RZ(f((gamma_3,))_7) ├───┤ H ├─────────────┤ X ├»\n",
       "     └────────────────────┘└─────────────────────┘   └───┘             └───┘»\n",
       "c: 4/═══════════════════════════════════════════════════════════════════════»\n",
       "                                                                            »\n",
       "«                                            ┌───┐    \n",
       "«q_0: ─────────────────────────────────■─────┤ H ├────\n",
       "«                                    ┌─┴─┐┌──┴───┴───┐\n",
       "«q_1: ────────────────────────────■──┤ X ├┤ RX(-π/2) ├\n",
       "«                               ┌─┴─┐├───┤└──────────┘\n",
       "«q_2: ───────────────────────■──┤ X ├┤ H ├────────────\n",
       "«     ┌───────────────────┐┌─┴─┐├───┤└───┘            \n",
       "«q_3: ┤ RZ(f((tau_0,))_8) ├┤ X ├┤ H ├─────────────────\n",
       "«     └───────────────────┘└───┘└───┘                 \n",
       "«c: 4/════════════════════════════════════════════════\n",
       "«                                                     </pre>"
      ],
      "text/plain": [
       "     ┌────────────────────┐┌─────────────────────┐   ┌───┐                  »\n",
       "q_0: ┤ RX(f((beta_0,))_0) ├┤ RZ(f((gamma_0,))_1) ├───┤ H ├─────■────────────»\n",
       "     ├────────────────────┤├─────────────────────┤┌──┴───┴──┐┌─┴─┐          »\n",
       "q_1: ┤ RX(f((beta_1,))_2) ├┤ RZ(f((gamma_1,))_3) ├┤ RX(π/2) ├┤ X ├──■───────»\n",
       "     ├────────────────────┤├─────────────────────┤└──┬───┬──┘└───┘┌─┴─┐     »\n",
       "q_2: ┤ RX(f((beta_2,))_4) ├┤ RZ(f((gamma_2,))_5) ├───┤ H ├────────┤ X ├──■──»\n",
       "     ├────────────────────┤├─────────────────────┤   ├───┤        └───┘┌─┴─┐»\n",
       "q_3: ┤ RX(f((beta_3,))_6) ├┤ RZ(f((gamma_3,))_7) ├───┤ H ├─────────────┤ X ├»\n",
       "     └────────────────────┘└─────────────────────┘   └───┘             └───┘»\n",
       "c: 4/═══════════════════════════════════════════════════════════════════════»\n",
       "                                                                            »\n",
       "«                                            ┌───┐    \n",
       "«q_0: ─────────────────────────────────■─────┤ H ├────\n",
       "«                                    ┌─┴─┐┌──┴───┴───┐\n",
       "«q_1: ────────────────────────────■──┤ X ├┤ RX(-π/2) ├\n",
       "«                               ┌─┴─┐├───┤└──────────┘\n",
       "«q_2: ───────────────────────■──┤ X ├┤ H ├────────────\n",
       "«     ┌───────────────────┐┌─┴─┐├───┤└───┘            \n",
       "«q_3: ┤ RZ(f((tau_0,))_8) ├┤ X ├┤ H ├─────────────────\n",
       "«     └───────────────────┘└───┘└───┘                 \n",
       "«c: 4/════════════════════════════════════════════════\n",
       "«                                                     "
      ]
     },
     "execution_count": 4,
     "metadata": {},
     "output_type": "execute_result"
    }
   ],
   "source": [
    "circ = tq.circuit.compiler.compile_exponential_pauli_gate(U)\n",
    "tq.draw(circ, backend=\"qiskit\")"
   ]
  }
 ],
 "metadata": {
  "@webio": {
   "lastCommId": null,
   "lastKernelId": null
  },
  "kernelspec": {
   "display_name": "JKernel",
   "language": "python",
   "name": "jkernel"
  },
  "language_info": {
   "codemirror_mode": {
    "name": "ipython",
    "version": 3
   },
   "file_extension": ".py",
   "mimetype": "text/x-python",
   "name": "python",
   "nbconvert_exporter": "python",
   "pygments_lexer": "ipython3",
   "version": "3.7.1"
  }
 },
 "nbformat": 4,
 "nbformat_minor": 2
}
